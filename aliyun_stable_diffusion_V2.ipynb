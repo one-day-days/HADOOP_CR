{
 "cells": [
  {
   "cell_type": "code",
   "execution_count": null,
   "id": "3cc21d66-1517-40cf-82b0-b0178775c564",
   "metadata": {
    "execution": {
     "iopub.execute_input": "2023-05-23T02:57:08.704739Z",
     "iopub.status.busy": "2023-05-23T02:57:08.704417Z",
     "iopub.status.idle": "2023-05-23T02:57:49.580515Z",
     "shell.execute_reply": "2023-05-23T02:57:49.580006Z",
     "shell.execute_reply.started": "2023-05-23T02:57:08.704714Z"
    }
   },
   "outputs": [],
   "source": [
    "!apt update\n",
    "!apt install -y aria2\n",
    "!git clone https://gitcode.net/overbill1683/stable-diffusion-webui\n",
    "%cd stable-diffusion-webui\n",
    "!mkdir repositories\n",
    "%cd repositories\n",
    "!git clone \"https://gitcode.net/overbill1683/stablediffusion\" \"stable-diffusion-stability-ai\"\n",
    "!git clone \"https://gitcode.net/overbill1683/taming-transformers\" \"taming-transformers\"\n",
    "!git clone \"https://gitcode.net/overbill1683/k-diffusion\" \"k-diffusion\"\n",
    "!git clone \"https://gitcode.net/overbill1683/CodeFormer\" \"CodeFormer\"\n",
    "!git clone \"https://gitcode.net/overbill1683/BLIP\" \"BLIP\"\n",
    "\n",
    "%cd /mnt/workspace/stable-diffusion-webui\n",
    "!wget -O \"config.json\" \"https://gitcode.net/Akegarasu/sd-webui-configs/-/raw/master/config.json\""
   ]
  },
  {
   "cell_type": "code",
   "execution_count": null,
   "id": "9eacaf8b-f834-4847-afa6-d968dd0db6c1",
   "metadata": {
    "execution": {
     "iopub.execute_input": "2023-05-23T02:58:10.731969Z",
     "iopub.status.busy": "2023-05-23T02:58:10.731495Z",
     "iopub.status.idle": "2023-05-23T02:58:24.340507Z",
     "shell.execute_reply": "2023-05-23T02:58:24.339978Z",
     "shell.execute_reply.started": "2023-05-23T02:58:10.731950Z"
    }
   },
   "outputs": [],
   "source": [
    "## 安装常用插件，填写github链接，一行一个\n",
    "extension_urls = \"\"\"\n",
    "https://gitcode.net/ranting8323/a1111-sd-webui-tagcomplete\n",
    "https://gitcode.net/overbill1683/stable-diffusion-webui-localization-zh_Hans\n",
    "https://gitcode.net/ranting8323/sd-webui-additional-networks\n",
    "https://gitcode.net/ranting8323/sd-webui-infinite-image-browsing\n",
    "https://gitcode.net/ranting8323/stable-diffusion-webui-wd14-tagger\n",
    "https://gitcode.net/mirrors/mikubill/sd-webui-controlnet\n",
    "https://gitcode.net/u010115835/sd-webui-mov2mov\n",
    "https://gitcode.net/xqjm2004/sd-webui-prompt-all-in-one\n",
    "https://gitcode.net/mirrors/xavierxiao/dreambooth-stable-diffusion\n",
    "\"\"\"\n",
    "\n",
    "extensions = extension_urls.strip().split(\"\\n\")\n",
    "\n",
    "%cd /mnt/workspace/stable-diffusion-webui\n",
    "for e in extensions:\n",
    "    !git -C \"extensions\" clone {e}"
   ]
  },
  {
   "cell_type": "code",
   "execution_count": null,
   "id": "bb00ca72-591d-48cb-af27-66c9121d7a5b",
   "metadata": {
    "scrolled": true,
    "tags": []
   },
   "outputs": [],
   "source": [
    "#下载contronet插件\n",
    "def aria2cControlNet(url,filename):\n",
    "    !aria2c --console-log-level=error -c -x 16 -s 16 -k 1M https://huggingface.co/ckpt/ControlNet-v1-1/$url -d /mnt/workspace/stable-diffusion-webui/extensions/sd-webui-controlnet/models -o {filename}\n",
    "\n",
    "for i in controlNet_file_paths:\n",
    "    aria2cControlNet(i,i.split(\"/\")[-1])\n"
   ]
  },
  {
   "cell_type": "code",
   "execution_count": null,
   "id": "98926f7c-02be-4446-9a49-d30e4445bfd7",
   "metadata": {
    "ExecutionIndicator": {
     "show": true
    },
    "execution": {
     "iopub.execute_input": "2023-05-23T02:59:40.668513Z",
     "iopub.status.busy": "2023-05-23T02:59:40.668171Z",
     "iopub.status.idle": "2023-05-23T03:12:59.920453Z",
     "shell.execute_reply": "2023-05-23T03:12:59.919887Z",
     "shell.execute_reply.started": "2023-05-23T02:59:40.668495Z"
    },
    "tags": []
   },
   "outputs": [],
   "source": [
    "#模型下载\n",
    "def aria2_model(url,dirname,filename):\n",
    "    !aria2c --console-log-level=error -c -x 16 -s 16 -k 1M {url} -d /mnt/workspace/stable-diffusion-webui/models/Stable-diffusion -o {filename}\n",
    "     \n",
    "aria2_model(\"https://huggingface.co/tydyg/sese_model/resolve/main/cetusMix_Codaedition.safetensors\",\"\",\"cetusMix_Codaedition.safetensors\")\n",
    "aria2_model(\"https://huggingface.co/tydyg/sese_model/resolve/main/anyloraCheckpoint_bakedvaeFtmseFp16NOT.safetensors\",\"\",\"anyloraCheckpoint_bakedvaeFtmseFp16NOT.safetensors\")\n",
    "aria2_model(\"https://huggingface.co/tydyg/sese_model/resolve/main/pastel-waifu-diffusion.vae.pt\",\"\",\"pastel-waifu-diffusion.vae.pt\")\n",
    "aria2_model(\"https://huggingface.co/tydyg/sese_model/resolve/main/2.5D/fantexiV08_V08.safetensors\",\"\",\"fantexiV08_V08.safetensors\")\n",
    "aria2_model(\"https://huggingface.co/tydyg/sese_model/resolve/main/2.5D/koreanstyle25D_koreanstyle25DBaked.safetensors\",\"\",\"koreanstyle25D_koreanstyle25DBaked.safetensors\")\n",
    "aria2_model(\"https://huggingface.co/tydyg/sese_model/resolve/main/2.5D/luckyStrikeMix_V02Realistic.safetensors\",\"\",\"luckyStrikeMix_V02Realistic.safetensors\")\n",
    "aria2_model(\"https://huggingface.co/tydyg/sese_model/resolve/main/darkSushiMixMix_colorful.safetensors\",\"\",\"darkSushiMixMix_colorful.safetensors\")\n",
    "#VAE下载\n",
    "def aria2_vae(url,dirname,filename):\n",
    "    !aria2c --console-log-level=error -c -x 16 -s 16 -k 1M {url} -d /mnt/workspace/stable-diffusion-webui/models/VAE -o {filename}\n",
    "    \n",
    "vae_url = \"https://huggingface.co/stabilityai/sd-vae-ft-mse-original/resolve/main/vae-ft-mse-840000-ema-pruned.safetensors\"    \n",
    "aria2_vae(vae_url,\"\",\"vae-ft-mse-840000-ema-pruned.safetensors\")\n",
    "\n",
    "def aria2lora(url,filename):\n",
    "    !aria2c --console-log-level=error -c -x 16 -s 16 {url} -o {filename} -d  /mnt/workspace/stable-diffusion-webui/models/Lora\n",
    "# #lora（可删）\n",
    "aria2lora(\"https://huggingface.co/tydyg/sese_lora/resolve/main/expression/Ahegaoo.safetensors\",\"ahegao.safetensors\")\n",
    "aria2lora(\"https://huggingface.co/tydyg/sese_lora/resolve/main/body/breastinclassBetter.safetensors\",\"breastinclassBetter_v14.safetensors\")\n",
    "aria2lora(\"https://huggingface.co/tydyg/sese_lora/resolve/main/pussy/innies_better_vukva.safetensors\",\"innie_better_vulva_v11.safetensors\")\n",
    "aria2lora(\"https://huggingface.co/tydyg/sese_lora/resolve/main/action/jack-v1.safetensors\",\"jack_pose.safetensors\")\n",
    "aria2lora(\"https://huggingface.co/tydyg/sese_lora/resolve/main/pussy/newb_0.1.safetensors\",\"newb-0.1.safetensors\")\n",
    "aria2lora(\"https://huggingface.co/tydyg/sese_lora/resolve/main/action/pantyhose_pull.safetensors\",\"pantyhose_pull.safetensors\")\n",
    "aria2lora(\"https://huggingface.co/tydyg/sese_lora/resolve/main/apparel/nopanhose.safetensors\",\"nopanhose.safetensors\")\n",
    "aria2lora(\"https://huggingface.co/tydyg/sese_lora/resolve/main/action/LegUpPresenting.safetensors\",\"leg_up_presenting.safetensors\")\n",
    "aria2lora(\"https://huggingface.co/tydyg/sese_lora/resolve/main/fucsil1-000011.safetensors\",\"fucked_silly_frombehind_v10.safetensors\")\n",
    "aria2lora(\"https://huggingface.co/tydyg/sese_lora/resolve/main/action/breasts%20afterimage32-000012.safetensors\",\"concept_breasts_v10.safetensors\")\n",
    "aria2lora(\"https://huggingface.co/tydyg/sese_lora/resolve/main/action/EkuneSideDoggy.safetensors\",\"ekune_side_doggy.safetensors\")\n",
    "aria2lora(\"https://huggingface.co/tydyg/sese_lora/resolve/main/style/90sv1.6R.safetensors\",\"90sv1.6R.safetensors\")\n",
    "aria2lora(\"https://huggingface.co/tydyg/sese_lora/resolve/main/diao/dildoRiding2-000005.safetensors\",\"dildo_riding2-v5.safetensors\")\n",
    "aria2lora(\"https://huggingface.co/tydyg/sese_lora/resolve/main/diao/DildoRidingBack.safetensors\",\"dildo_riding_back.safetensors\")\n",
    "aria2lora(\"https://huggingface.co/tydyg/sese_lora/resolve/main/funtoys_v1.safetensors\",\"funtoys_v1.safetensors\")\n",
    "aria2lora(\"https://huggingface.co/tydyg/sese_lora/resolve/main/diao/DDaf_v2.safetensors\",\"ddaf_v2.safetensors\")\n",
    "aria2lora(\"https://huggingface.co/tydyg/sese_lora/resolve/main/action/grabbing_own_ass.safetensors\",\"grabbing_own_ass.safetensors\")\n",
    "aria2lora(\"https://huggingface.co/tydyg/sese_lora/resolve/main/style/cute_gril_mix4.safetensors\",\"cute_girl_mix4.safetensors\")\n",
    "aria2lora(\"https://huggingface.co/tydyg/sese_lora/resolve/main/pussy/RealisticVaginasGodPussy1V3.safetensors\",\"RealisticVaginasGodPussy1V3.safetensors\")\n",
    "aria2lora(\"https://huggingface.co/tydyg/sese_lora/resolve/main/pussy/RealisticVaginasInniePussy1V3.safetensors\",\"RealisticVaginasInniePussy1V3.safetensors\")\n",
    "aria2lora(\"https://huggingface.co/tydyg/sese_lora/resolve/main/pussy/RealisticVaginasWetPussy1V3.safetensors\",\"RealisticVaginasWetPussy1V3.safetensors\")\n",
    "aria2lora(\"https://huggingface.co/tydyg/sese_lora/resolve/main/apparel/tennis_outfit.safetensors\",\"Ltennis_outfit.safetensors\")\n",
    "\n",
    "#embeddings（可删）\n",
    "!git clone https://huggingface.co/embed/negative /mnt/workspace/stable-diffusion-webui/embeddings/negative\n",
    "!git clone https://huggingface.co/embed/lora /mnt/workspace/stable-diffusion-webui/models/Lora/positive\n",
    "!aria2c --console-log-level=error -c -x 16 -s 16 -k 1M https://huggingface.co/embed/upscale/resolve/main/4x-UltraSharp.pth -d /mnt/workspace/stable-diffusion-webui/models/ESRGAN -o 4x-UltraSharp.pth\n"
   ]
  },
  {
   "cell_type": "code",
   "execution_count": null,
   "id": "2b42ca61",
   "metadata": {
    "execution": {
     "iopub.execute_input": "2023-05-23T03:13:12.371165Z",
     "iopub.status.busy": "2023-05-23T03:13:12.370845Z",
     "iopub.status.idle": "2023-05-23T03:13:56.870837Z",
     "shell.execute_reply": "2023-05-23T03:13:56.870281Z",
     "shell.execute_reply.started": "2023-05-23T03:13:12.371144Z"
    }
   },
   "outputs": [],
   "source": [
    "#download face pth\n",
    "!aria2c --console-log-level=error -c -x 16 -s 16 -k 1M  https://huggingface.co/tydyg/pth/resolve/main/codeformer.pth -d /mnt/workspace/stable-diffusion-webui/models/Codeformer/ -o codeformer-v0.1.0.pth\n",
    "!aria2c --console-log-level=error -c -x 16 -s 16 -k 1M  https://huggingface.co/tydyg/pth/resolve/main/detection_Resnet50_Final.pth -d /mnt/workspace/stable-diffusion-webui/repositories/CodeFormer/weights/facelib/ -o detection_Resnet50_Final.pth\n",
    "!aria2c --console-log-level=error -c -x 16 -s 16 -k 1M  https://huggingface.co/tydyg/pth/resolve/main/parsing_parsenet.pth -d /mnt/workspace/stable-diffusion-webui/repositories/CodeFormer/weights/facelib/ -o arsing_parsenet.pth"
   ]
  },
  {
   "cell_type": "code",
   "execution_count": null,
   "id": "c27d13b8",
   "metadata": {
    "execution": {
     "iopub.execute_input": "2023-05-23T03:14:07.205406Z",
     "iopub.status.busy": "2023-05-23T03:14:07.205084Z",
     "iopub.status.idle": "2023-05-23T03:15:33.542931Z",
     "shell.execute_reply": "2023-05-23T03:15:33.542378Z",
     "shell.execute_reply.started": "2023-05-23T03:14:07.205386Z"
    }
   },
   "outputs": [],
   "source": [
    "def aria2cLyCORIS(url,filename):\n",
    "  !aria2c --console-log-level=error -c -x 16 -s 16 -k 1M {url} -d /mnt/workspace/stable-diffusion-webui/models/LyCORIS -o {filename}\n",
    "#修改\n",
    "# aria2cLyCORIS(\"https://huggingface.co/tydyg/sese_lora/resolve/main/qqq-sexypantyhose-v1-000003.safetensors\",\"qqq-sexypantyhose-v13.safetensors\")\n",
    "aria2cLyCORIS(\"https://huggingface.co/tydyg/sese_lyco/resolve/main/MultipleGirlsGroup.safetensors\",\"multipleGirlsGroup.safetensors\")\n",
    "aria2cLyCORIS(\"https://huggingface.co/tydyg/sese_lyco/resolve/main/chakumomi_v1-1.safetensors\",\"multipleGirlsGroup.safetensors\")\n",
    "aria2cLyCORIS(\"https://huggingface.co/tydyg/sese_lyco/resolve/main/conceptTribadism_v10.safetensors\",\"conceptTribadism_v10.safetensors\")\n",
    "aria2cLyCORIS(\"https://huggingface.co/tydyg/sese_lyco/resolve/main/cuplessCrotchless_v120.safetensors\",\"cuplessCrotchless_v120.safetensors\")\n",
    "aria2cLyCORIS(\"https://huggingface.co/tydyg/sese_lyco/resolve/main/lactation.safetensors\",\"lactation.safetensors\")\n",
    "aria2cLyCORIS(\"https://huggingface.co/tydyg/sese_lyco/resolve/main/teacherClothes.safetensors\",\"teacherClothes.safetensors\")"
   ]
  },
  {
   "cell_type": "code",
   "execution_count": null,
   "id": "e175fb16-4998-433a-aa05-5ce3272db492",
   "metadata": {
    "execution": {
     "iopub.execute_input": "2023-05-23T03:45:36.952015Z",
     "iopub.status.busy": "2023-05-23T03:45:36.951555Z",
     "iopub.status.idle": "2023-05-23T03:51:04.085942Z",
     "shell.execute_reply": "2023-05-23T03:51:04.085402Z",
     "shell.execute_reply.started": "2023-05-23T03:45:36.951995Z"
    },
    "tags": []
   },
   "outputs": [],
   "source": [
    "!aria2c --console-log-level=error -c -x 16 -s 16 -k 1M https://huggingface.co/ckpt/ControlNet-v1-1/resolve/main/control_v11f1e_sd15_tile.pth -d /mnt/workspace/stable-diffusion-webui/extensions/sd-webui-controlnet/models -o control_v11f1e_sd15_tile.pth\n",
    "!aria2c --console-log-level=error -c -x 16 -s 16 -k 1M https://huggingface.co/lllyasviel/ControlNet-v1-1/resolve/main/control_v11p_sd15_canny.pth -d /mnt/workspace/stable-diffusion-webui/extensions/sd-webui-controlnet/models -o control_v11p_sd15_canny.pth\n",
    "!aria2c --console-log-level=error -c -x 16 -s 16 -k 1M https://huggingface.co/lllyasviel/ControlNet-v1-1/resolve/main/control_v11p_sd15_openpose.pth -d /mnt/workspace/stable-diffusion-webui/extensions/sd-webui-controlnet/models -o control_v11p_sd15_openpose.pth\n",
    "!aria2c --console-log-level=error -c -x 16 -s 16 -k 1M https://huggingface.co/lllyasviel/ControlNet-v1-1/resolve/main/control_v11e_sd15_ip2p.pth -d /mnt/workspace/stable-diffusion-webui/extensions/sd-webui-controlnet/models -o control_v11e_sd15_ip2p.pth\n",
    "!aria2c --console-log-level=error -c -x 16 -s 16 -k 1M https://huggingface.co/lllyasviel/ControlNet-v1-1/resolve/main/control_v11e_sd15_shuffle.pth -d /mnt/workspace/stable-diffusion-webui/extensions/sd-webui-controlnet/models -o control_v11e_sd15_shuffle.pth\n",
    "!aria2c --console-log-level=error -c -x 16 -s 16 -k 1M https://huggingface.co/lllyasviel/ControlNet-v1-1/resolve/main/control_v11f1p_sd15_depth.pth -d /mnt/workspace/stable-diffusion-webui/extensions/sd-webui-controlnet/models -o control_v11f1p_sd15_depth.pth\n",
    "!aria2c --console-log-level=error -c -x 16 -s 16 -k 1M https://huggingface.co/lllyasviel/ControlNet-v1-1/resolve/main/control_v11p_sd15_inpaint.pth -d /mnt/workspace/stable-diffusion-webui/extensions/sd-webui-controlnet/models -o control_v11p_sd15_inpaint.pth\n",
    "!aria2c --console-log-level=error -c -x 16 -s 16 -k 1M https://huggingface.co/lllyasviel/ControlNet-v1-1/resolve/main/control_v11p_sd15_lineart.pth -d /mnt/workspace/stable-diffusion-webui/extensions/sd-webui-controlnet/models -o control_v11p_sd15_lineart.pth\n",
    "!aria2c --console-log-level=error -c -x 16 -s 16 -k 1M https://huggingface.co/lllyasviel/ControlNet-v1-1/resolve/main/control_v11p_sd15_mlsd.pth -d /mnt/workspace/stable-diffusion-webui/extensions/sd-webui-controlnet/models -o control_v11p_sd15_mlsd.pth\n",
    "!aria2c --console-log-level=error -c -x 16 -s 16 -k 1M https://huggingface.co/lllyasviel/ControlNet-v1-1/resolve/main/control_v11p_sd15_normalbae.pth -d /mnt/workspace/stable-diffusion-webui/extensions/sd-webui-controlnet/models -o control_v11p_sd15_normalbae.pth\n",
    "!aria2c --console-log-level=error -c -x 16 -s 16 -k 1M https://huggingface.co/lllyasviel/ControlNet-v1-1/resolve/main/control_v11p_sd15_scribble.pth -d /mnt/workspace/stable-diffusion-webui/extensions/sd-webui-controlnet/models -o control_v11p_sd15_scribble.pth\n",
    "!aria2c --console-log-level=error -c -x 16 -s 16 -k 1M https://huggingface.co/lllyasviel/ControlNet-v1-1/resolve/main/control_v11p_sd15_seg.pth -d /mnt/workspace/stable-diffusion-webui/extensions/sd-webui-controlnet/models -o control_v11p_sd15_seg.pth\n",
    "!aria2c --console-log-level=error -c -x 16 -s 16 -k 1M https://huggingface.co/lllyasviel/ControlNet-v1-1/resolve/main/control_v11p_sd15_softedge.pth -d /mnt/workspace/stable-diffusion-webui/extensions/sd-webui-controlnet/models -o control_v11p_sd15_softedge.pth\n",
    "!aria2c --console-log-level=error -c -x 16 -s 16 -k 1M https://huggingface.co/lllyasviel/ControlNet-v1-1/resolve/main/control_v11p_sd15s2_lineart_anime.pth -d /mnt/workspace/stable-diffusion-webui/extensions/sd-webui-controlnet/models -o control_v11p_sd15s2_lineart_anime.pth\n"
   ]
  },
  {
   "cell_type": "code",
   "execution_count": null,
   "id": "b5b00dbe-f639-4e8f-be4a-a381769f1bb1",
   "metadata": {},
   "outputs": [],
   "source": [
    "#Downloading: \"https://github.com/xinntao/Real-ESRGAN/releases/download/v0.1.0/RealESRGAN_x4plus.pth\" to /mnt/workspace/stable-diffusion-webui/models/RealESRGAN/RealESRGAN_x4plus.pth\n",
    "%cd /mnt/workspace/stable-diffusion-webui/models/RealESRGAN/\n",
    "!aria2c https://kgithub.com/xinntao/Real-ESRGAN/releases/download/v0.2.2.4/RealESRGAN_x4plus.pth\n",
    "!aria2c https://kgithub.com/xinntao/Real-ESRGAN/releases/download/v0.2.2.4/RealESRGAN_x4plus_animme_6B.pth"
   ]
  },
  {
   "cell_type": "code",
   "execution_count": null,
   "id": "6705a6ef-1a2d-46b8-99fd-531ef3308d68",
   "metadata": {
    "execution": {
     "iopub.execute_input": "2023-05-23T04:01:04.051724Z",
     "iopub.status.busy": "2023-05-23T04:01:04.051395Z"
    },
    "scrolled": true,
    "tags": []
   },
   "outputs": [],
   "source": [
    "import os\n",
    "package_envs  = [\n",
    "      {\n",
    "        \"env\": \"GFPGAN_PACKAGE\",\n",
    "        \"url\": \"git+https://gitcode.net/overbill1683/GFPGAN.git@8d2447a2d918f8eba5a4a01463fd48e45126a379\"\n",
    "      },\n",
    "      {\n",
    "        \"env\": \"CLIP_PACKAGE\",\n",
    "        \"url\": \"git+https://gitcode.net/overbill1683/CLIP.git@d50d76daa670286dd6cacf3bcd80b5e4823fc8e1\"\n",
    "      },\n",
    "      {\n",
    "        \"env\": \"OPENCLIP_PACKAGE\",\n",
    "        \"url\": \"git+https://gitcode.net/overbill1683/open_clip.git@bb6e834e9c70d9c27d0dc3ecedeebeaeb1ffad6b\"\n",
    "      }\n",
    "]\n",
    "os.environ[\"PIP_INDEX_URL\"] = \"https://mirrors.bfsu.edu.cn/pypi/web/simple\"\n",
    "for i in package_envs:\n",
    "    os.environ[i[\"env\"]] = i[\"url\"]\n",
    "\n",
    "%cd /mnt/workspace/stable-diffusion-webui\n",
    "!python launch.py --no-download-sd-model --xformers --share --listen --enable-insecure-extension-access"
   ]
  },
  {
   "cell_type": "code",
   "execution_count": null,
   "id": "0657901b-78de-4a63-85d8-457b8b45826e",
   "metadata": {
    "execution": {
     "iopub.execute_input": "2023-05-23T05:37:35.925621Z",
     "iopub.status.busy": "2023-05-23T05:37:35.925302Z",
     "iopub.status.idle": "2023-05-23T06:25:55.007209Z",
     "shell.execute_reply": "2023-05-23T06:25:55.006612Z",
     "shell.execute_reply.started": "2023-05-23T05:37:35.925604Z"
    },
    "tags": []
   },
   "outputs": [],
   "source": [
    "%cd /mnt/workspace/stable-diffusion-webui\n",
    "!python launch.py --no-download-sd-model --xformers --share --listen --enable-insecure-extension-access --disable-safe-unpickle"
   ]
  },
  {
   "cell_type": "code",
   "execution_count": null,
   "id": "45258ccb-c26c-4398-9706-64d2cd69e76e",
   "metadata": {},
   "outputs": [],
   "source": []
  }
 ],
 "metadata": {
  "kernelspec": {
   "display_name": "Python 3 (ipykernel)",
   "language": "python",
   "name": "python3"
  },
  "language_info": {
   "codemirror_mode": {
    "name": "ipython",
    "version": 3
   },
   "file_extension": ".py",
   "mimetype": "text/x-python",
   "name": "python",
   "nbconvert_exporter": "python",
   "pygments_lexer": "ipython3",
   "version": "3.11.3"
  }
 },
 "nbformat": 4,
 "nbformat_minor": 5
}
